Delete Jobsheet_4.ipynb
